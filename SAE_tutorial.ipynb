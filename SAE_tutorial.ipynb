{
  "nbformat": 4,
  "nbformat_minor": 0,
  "metadata": {
    "colab": {
      "provenance": []
    },
    "kernelspec": {
      "name": "python3",
      "display_name": "Python 3"
    },
    "language_info": {
      "name": "python"
    }
  },
  "cells": [
    {
      "cell_type": "markdown",
      "source": [
        "**Step 0. Preparing packages and modules**"
      ],
      "metadata": {
        "id": "QU-tOvn-BGqp"
      }
    },
    {
      "cell_type": "code",
      "source": [
        "!pip install phenograph\n",
        "!pip install scanpy\n",
        "!pip install louvain\n",
        "!pip install git+https://github.com/saketkc/pysctransform.git"
      ],
      "metadata": {
        "id": "Q8wb6RIGBOze"
      },
      "execution_count": null,
      "outputs": []
    },
    {
      "cell_type": "code",
      "source": [
        "import numpy as np\n",
        "import pandas as pd\n",
        "import tensorflow as tf\n",
        "import warnings\n",
        "warnings.simplefilter(action='ignore', category=FutureWarning)\n",
        "tf.compat.v1.logging.set_verbosity(tf.compat.v1.logging.ERROR)\n",
        "from tensorflow.keras.losses import MSE, KLD\n",
        "import phenograph\n",
        "\n",
        "from keras.layers import Input, Dense\n",
        "from keras.models import Model\n",
        "from keras import regularizers\n",
        "import matplotlib.pyplot as plt\n",
        "from sklearn.manifold import TSNE"
      ],
      "metadata": {
        "id": "zVNMgxz0BZjv"
      },
      "execution_count": null,
      "outputs": []
    },
    {
      "cell_type": "code",
      "source": [
        "from google.colab import drive\n",
        "drive.mount('/content/drive')"
      ],
      "metadata": {
        "id": "3yzaw4cvEa5K"
      },
      "execution_count": null,
      "outputs": []
    },
    {
      "cell_type": "markdown",
      "source": [
        "**Step 1. Preprocessing**\n",
        "\n",
        "Here we use Scanpy and pySCTransform to normalize data.\n",
        "\n",
        "If lineage analysis is needed, we recommend using SCTransform in the Seurat R package because sometimes the performance of pySCTransform on lineage data is not so good."
      ],
      "metadata": {
        "id": "ZkWIs3ST_5dl"
      }
    },
    {
      "cell_type": "code",
      "execution_count": null,
      "metadata": {
        "id": "v17MM8e0_lwr"
      },
      "outputs": [],
      "source": [
        "idents = np.array(pd.read_csv(\"/content/drive/My Drive/compbio/test_data/pbmc_idents.csv\", index_col=0, sep=\"\\t\"))\n",
        "count = np.array(pd.read_csv(\"/content/drive/My Drive/compbio/test_data/pbmc_raw.csv\", index_col=0, sep=\"\\t\"))"
      ]
    },
    {
      "cell_type": "markdown",
      "source": [
        "**Step 2. Building model**"
      ],
      "metadata": {
        "id": "dSaRk-kAAKHw"
      }
    },
    {
      "cell_type": "code",
      "source": [],
      "metadata": {
        "id": "ZLX5IRKHAVDu"
      },
      "execution_count": null,
      "outputs": []
    },
    {
      "cell_type": "markdown",
      "source": [
        "**Step 3. Pre-training**"
      ],
      "metadata": {
        "id": "b0uaHFkTA5Xs"
      }
    },
    {
      "cell_type": "code",
      "source": [],
      "metadata": {
        "id": "uC9ApFpWA-Ec"
      },
      "execution_count": null,
      "outputs": []
    },
    {
      "cell_type": "markdown",
      "source": [
        "**Step 4. Clustering training**"
      ],
      "metadata": {
        "id": "nrHbuxjaA9in"
      }
    },
    {
      "cell_type": "code",
      "source": [],
      "metadata": {
        "id": "NiFAYIZpBCAc"
      },
      "execution_count": null,
      "outputs": []
    }
  ]
}